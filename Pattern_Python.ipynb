{
  "nbformat": 4,
  "nbformat_minor": 0,
  "metadata": {
    "colab": {
      "provenance": []
    },
    "kernelspec": {
      "name": "python3",
      "display_name": "Python 3"
    },
    "language_info": {
      "name": "python"
    }
  },
  "cells": [
    {
      "cell_type": "code",
      "execution_count": 1,
      "metadata": {
        "colab": {
          "base_uri": "https://localhost:8080/"
        },
        "id": "y9U-eYBnbR0l",
        "outputId": "40cfb871-846d-4ba5-e5fb-5214786a296a"
      },
      "outputs": [
        {
          "output_type": "stream",
          "name": "stdout",
          "text": [
            "enter the length of the pattern5\n",
            "*\n",
            "**\n",
            "***\n",
            "****\n",
            "*****\n"
          ]
        }
      ],
      "source": [
        "n=int(input(\"enter the length of the pattern\"))\n",
        "for i in range(0,n):\n",
        "    for j in range(i+1):\n",
        "      print(\"*\",end=\"\")\n",
        "    print(\"\")"
      ]
    },
    {
      "cell_type": "code",
      "source": [
        "n=int(input(\"enter the length of the pattern\"))\n",
        "for i in range (0,n):\n",
        "  for j in range(i+1):\n",
        "    print(j+1,end=\"\")\n",
        "  print(\"\")"
      ],
      "metadata": {
        "colab": {
          "base_uri": "https://localhost:8080/"
        },
        "id": "HrIKRxvPcQ3e",
        "outputId": "29b319cc-0aee-40e5-8724-1b4112a6b124"
      },
      "execution_count": 2,
      "outputs": [
        {
          "output_type": "stream",
          "name": "stdout",
          "text": [
            "enter the length of the pattern5\n",
            "1\n",
            "12\n",
            "123\n",
            "1234\n",
            "12345\n"
          ]
        }
      ]
    },
    {
      "cell_type": "code",
      "source": [
        "n=int(input(\"enter the length of the pattern\"))\n",
        "for i in range(0,n):\n",
        "  for j in range(i+1):\n",
        "    print(i+1,end=\"\")\n",
        "  print(\"\")"
      ],
      "metadata": {
        "colab": {
          "base_uri": "https://localhost:8080/"
        },
        "id": "jSpQNCyeclXc",
        "outputId": "768a4ea9-8382-49f6-8046-275983cfac1e"
      },
      "execution_count": 4,
      "outputs": [
        {
          "output_type": "stream",
          "name": "stdout",
          "text": [
            "enter the length of the pattern5\n",
            "1\n",
            "22\n",
            "333\n",
            "4444\n",
            "55555\n"
          ]
        }
      ]
    },
    {
      "cell_type": "code",
      "source": [
        "n=int(input(\"enter the length of the pattern\"))\n",
        "for i in range(n,0,-1):\n",
        "  for j in range(0,i):\n",
        "    print(\"*\",end=\"\")\n",
        "  print(\"\")"
      ],
      "metadata": {
        "colab": {
          "base_uri": "https://localhost:8080/"
        },
        "id": "cYFRN_IvdBcl",
        "outputId": "ad9719b1-c00d-492f-cc59-8bd4bbb18a9b"
      },
      "execution_count": 5,
      "outputs": [
        {
          "output_type": "stream",
          "name": "stdout",
          "text": [
            "enter the length of the pattern5\n",
            "*****\n",
            "****\n",
            "***\n",
            "**\n",
            "*\n"
          ]
        }
      ]
    },
    {
      "cell_type": "code",
      "source": [
        "n=int(input(\"enter the length of the pattern\"))\n",
        "for i in range(n,0,-1):\n",
        "  for j in range(0,i):\n",
        "    print(j+1,end='')\n",
        "  print(\"\")"
      ],
      "metadata": {
        "colab": {
          "base_uri": "https://localhost:8080/"
        },
        "id": "RyqVISyveEm-",
        "outputId": "df1fb9c8-0954-4ea2-f0c6-b0994589c44c"
      },
      "execution_count": 7,
      "outputs": [
        {
          "output_type": "stream",
          "name": "stdout",
          "text": [
            "enter the length of the pattern5\n",
            "12345\n",
            "1234\n",
            "123\n",
            "12\n",
            "1\n"
          ]
        }
      ]
    },
    {
      "cell_type": "code",
      "source": [
        "n=int(input(\"enter the length of the pattern\"))\n",
        "for i in range(n,0,-1):\n",
        "  for j in range(0,i):\n",
        "    print(i,end=\"\")\n",
        "  print(\"\")"
      ],
      "metadata": {
        "colab": {
          "base_uri": "https://localhost:8080/"
        },
        "id": "GBCYQWPAecvr",
        "outputId": "ed46ecdf-573e-4cf4-d621-f5b110db1d90"
      },
      "execution_count": 9,
      "outputs": [
        {
          "output_type": "stream",
          "name": "stdout",
          "text": [
            "enter the length of the pattern5\n",
            "55555\n",
            "4444\n",
            "333\n",
            "22\n",
            "1\n"
          ]
        }
      ]
    },
    {
      "cell_type": "code",
      "source": [
        "n=int(input(\"enter the length of the pattern\"))\n",
        "for i in range(0,n):\n",
        "  for j in range(i+1):\n",
        "    print(\"*\",end=\"\")\n",
        "  print(\"\")"
      ],
      "metadata": {
        "colab": {
          "base_uri": "https://localhost:8080/"
        },
        "id": "0xQUIo7xuHaH",
        "outputId": "710ea0a4-021c-4595-b9af-6721f8f8496d"
      },
      "execution_count": 11,
      "outputs": [
        {
          "output_type": "stream",
          "name": "stdout",
          "text": [
            "enter the length of the pattern5\n",
            "*\n",
            "**\n",
            "***\n",
            "****\n",
            "*****\n"
          ]
        }
      ]
    },
    {
      "cell_type": "code",
      "source": [
        "n=int(input(\"enter the length of the pattern\"))\n",
        "for i in range(0,n):\n",
        "  for j in range(0,n-i-1):\n",
        "    print(\" \",end=\"\")\n",
        "  for j in range(0,i+1):\n",
        "    print(\"*\",end=\"\")\n",
        "  print(\"\")\n"
      ],
      "metadata": {
        "colab": {
          "base_uri": "https://localhost:8080/"
        },
        "id": "8irgmwJdwVs5",
        "outputId": "4ce7d0ec-761c-454e-c4fe-08ba19892268"
      },
      "execution_count": 13,
      "outputs": [
        {
          "output_type": "stream",
          "name": "stdout",
          "text": [
            "enter the length of the pattern5\n",
            "    *\n",
            "   **\n",
            "  ***\n",
            " ****\n",
            "*****\n"
          ]
        }
      ]
    },
    {
      "cell_type": "code",
      "source": [
        "n=int(input(\"enter the length of the pattern\"))\n",
        "for i in range(0,n):\n",
        "  for j in range(0,n-i-1):\n",
        "    print(\" \",end=\"\")\n",
        "  for j in range(i+1):\n",
        "    print(j+1,end=\"\")\n",
        "  print(\"\")"
      ],
      "metadata": {
        "colab": {
          "base_uri": "https://localhost:8080/"
        },
        "id": "LxqXCD3A5D2b",
        "outputId": "b6bdc8dc-3cd5-49c6-aa68-e0d5e63f5302"
      },
      "execution_count": 16,
      "outputs": [
        {
          "output_type": "stream",
          "name": "stdout",
          "text": [
            "enter the length of the pattern5\n",
            "    1\n",
            "   12\n",
            "  123\n",
            " 1234\n",
            "12345\n"
          ]
        }
      ]
    },
    {
      "cell_type": "code",
      "source": [
        "n=int(input(\"enter the length of the pattern\"))\n",
        "for i in range(0,n):\n",
        "  for j in range(0,n-1-i):\n",
        "    print(\" \",end=\"\")\n",
        "  for j in range(i+1):\n",
        "    print(i+1,end=\"\")\n",
        "  print(\"\")"
      ],
      "metadata": {
        "colab": {
          "base_uri": "https://localhost:8080/"
        },
        "id": "a2hw1S9k6_1-",
        "outputId": "739039e2-d63f-40e6-ad6a-2ec9fb7c0578"
      },
      "execution_count": 17,
      "outputs": [
        {
          "output_type": "stream",
          "name": "stdout",
          "text": [
            "enter the length of the pattern5\n",
            "    1\n",
            "   22\n",
            "  333\n",
            " 4444\n",
            "55555\n"
          ]
        }
      ]
    },
    {
      "cell_type": "code",
      "source": [
        "n = int(input(\"enter the length of the pattern: \"))\n",
        "for i in range(n, 0, -1):\n",
        "    for j in range(0, n - i):\n",
        "        print(\" \", end=\"\")\n",
        "    for j in range(0, i):\n",
        "        print(\"*\", end=\"\")\n",
        "    print(\"\")"
      ],
      "metadata": {
        "colab": {
          "base_uri": "https://localhost:8080/"
        },
        "id": "rHqjg3qYM-bp",
        "outputId": "0e382f11-3cc0-4f51-b1ee-c7b4e4805622"
      },
      "execution_count": 34,
      "outputs": [
        {
          "output_type": "stream",
          "name": "stdout",
          "text": [
            "enter the length of the pattern: 5\n",
            "*****\n",
            " ****\n",
            "  ***\n",
            "   **\n",
            "    *\n"
          ]
        }
      ]
    },
    {
      "cell_type": "code",
      "source": [
        "n = int(input(\"enter the length of the pattern: \"))\n",
        "for i in range(n, 0, -1):\n",
        "    for j in range(0, n - i):\n",
        "        print(\" \", end=\"\")\n",
        "    for j in range(0, i):\n",
        "        print(j+1, end=\"\")\n",
        "    print(\"\")"
      ],
      "metadata": {
        "colab": {
          "base_uri": "https://localhost:8080/"
        },
        "id": "mPYxso9pNcSn",
        "outputId": "9b24e585-0a60-4486-9383-e959d3523ee2"
      },
      "execution_count": 35,
      "outputs": [
        {
          "output_type": "stream",
          "name": "stdout",
          "text": [
            "enter the length of the pattern: 5\n",
            "12345\n",
            " 1234\n",
            "  123\n",
            "   12\n",
            "    1\n"
          ]
        }
      ]
    },
    {
      "cell_type": "code",
      "source": [
        "n = int(input(\"enter the length of the pattern: \"))\n",
        "for i in range(n, 0, -1):\n",
        "    for j in range(0, n - i):\n",
        "        print(\" \", end=\"\")\n",
        "    for j in range(0, i):\n",
        "        print(i, end=\"\")\n",
        "    print(\"\")"
      ],
      "metadata": {
        "colab": {
          "base_uri": "https://localhost:8080/"
        },
        "id": "7rqf3go-NiR7",
        "outputId": "0b9107f8-4a0c-4ef1-bbb1-4c4326b900f9"
      },
      "execution_count": 37,
      "outputs": [
        {
          "output_type": "stream",
          "name": "stdout",
          "text": [
            "enter the length of the pattern: 5\n",
            "55555\n",
            " 4444\n",
            "  333\n",
            "   22\n",
            "    1\n"
          ]
        }
      ]
    },
    {
      "cell_type": "code",
      "source": [
        "n=int(input(\"enter the length of the pattern\"))\n",
        "for i in range(0,n):\n",
        "  for j in range(0,n-1-i):\n",
        "    print(\" \",end=\"\")\n",
        "  for j in range(i+1):\n",
        "    print(\"*\",end=\"\")\n",
        "  for j in range(i):\n",
        "    print(\"*\",end=\"\")\n",
        "  print(\"\")"
      ],
      "metadata": {
        "colab": {
          "base_uri": "https://localhost:8080/"
        },
        "id": "S56imxMG79gE",
        "outputId": "5505c834-1c84-4d44-fdb5-4b3fa26d7abf"
      },
      "execution_count": 19,
      "outputs": [
        {
          "output_type": "stream",
          "name": "stdout",
          "text": [
            "enter the length of the pattern5\n",
            "    *\n",
            "   ***\n",
            "  *****\n",
            " *******\n",
            "*********\n"
          ]
        }
      ]
    },
    {
      "cell_type": "code",
      "source": [
        "n = int(input(\"Enter the number of rows: \"))\n",
        "for i in range(n + 1):\n",
        "    for j in range(n - i):\n",
        "        print(\" \", end=\"\")\n",
        "    for j in range(i):\n",
        "        print(j + 1, end=\"\")\n",
        "    for j in range(i - 1, 0, -1):\n",
        "        print(j, end=\"\")\n",
        "    print()"
      ],
      "metadata": {
        "colab": {
          "base_uri": "https://localhost:8080/"
        },
        "id": "teQytxpUAb3L",
        "outputId": "cf68a2f2-aca9-42e0-f99b-7b43c47d3cc2"
      },
      "execution_count": 31,
      "outputs": [
        {
          "output_type": "stream",
          "name": "stdout",
          "text": [
            "Enter the number of rows: 5\n",
            "     \n",
            "    1\n",
            "   121\n",
            "  12321\n",
            " 1234321\n",
            "123454321\n"
          ]
        }
      ]
    },
    {
      "cell_type": "code",
      "source": [
        "n=int(input(\"enter the length of the pattern\"))\n",
        "for i in range(0,n):\n",
        "  for j in range(0,n-1-i):\n",
        "    print(\" \",end=\"\")\n",
        "  for j in range(i+1):\n",
        "    print(i+1,end=\"\")\n",
        "  for j in range(i):\n",
        "    print(i+1,end=\"\")\n",
        "  print(\"\")"
      ],
      "metadata": {
        "colab": {
          "base_uri": "https://localhost:8080/"
        },
        "id": "GJ9oVlguLjGJ",
        "outputId": "aa701a38-8404-4946-fcf3-178ab994682a"
      },
      "execution_count": 33,
      "outputs": [
        {
          "output_type": "stream",
          "name": "stdout",
          "text": [
            "enter the length of the pattern5\n",
            "    1\n",
            "   222\n",
            "  33333\n",
            " 4444444\n",
            "555555555\n"
          ]
        }
      ]
    },
    {
      "cell_type": "code",
      "source": [
        "n = int(input(\"Enter the number of rows: \"))\n",
        "for i in range(n):\n",
        "  for j in range(i):\n",
        "        print(\" \", end=\"\")\n",
        "  for j in range(1, n - i + 1):\n",
        "        print(\"*\", end=\"\")\n",
        "  for j in range(n - i - 1, 0, -1):\n",
        "        print(\"*\", end=\"\")\n",
        "  print(\"\")"
      ],
      "metadata": {
        "colab": {
          "base_uri": "https://localhost:8080/"
        },
        "id": "jYREh6btR7_B",
        "outputId": "15a8edd0-b6e5-45da-d634-ba1bd30512c2"
      },
      "execution_count": 49,
      "outputs": [
        {
          "output_type": "stream",
          "name": "stdout",
          "text": [
            "Enter the number of rows: 5\n",
            "*********\n",
            " *******\n",
            "  *****\n",
            "   ***\n",
            "    *\n"
          ]
        }
      ]
    },
    {
      "cell_type": "code",
      "source": [
        "n = int(input(\"Enter the number of rows: \"))\n",
        "for i in range(n):\n",
        "  for j in range(i):\n",
        "        print(\" \", end=\"\")\n",
        "  for j in range(1, n - i + 1):\n",
        "        print(j, end=\"\")\n",
        "  for j in range(n - i - 1, 0, -1):\n",
        "        print(j, end=\"\")\n",
        "  print(\"\")"
      ],
      "metadata": {
        "colab": {
          "base_uri": "https://localhost:8080/"
        },
        "id": "6Ffis2aARiWd",
        "outputId": "9c766bcb-ced6-496f-853f-4c438d07a8a5"
      },
      "execution_count": 48,
      "outputs": [
        {
          "output_type": "stream",
          "name": "stdout",
          "text": [
            "Enter the number of rows: 5\n",
            "123454321\n",
            " 1234321\n",
            "  12321\n",
            "   121\n",
            "    1\n"
          ]
        }
      ]
    },
    {
      "cell_type": "code",
      "source": [
        "n = int(input(\"Enter the number of rows: \"))\n",
        "for i in range(n):\n",
        "  for j in range(i):\n",
        "        print(\" \", end=\"\")\n",
        "  for j in range(1, n - i + 1):\n",
        "        print(i+1, end=\"\")\n",
        "  for j in range(n - i - 1, 0, -1):\n",
        "        print(i+1, end=\"\")\n",
        "  print(\"\")"
      ],
      "metadata": {
        "colab": {
          "base_uri": "https://localhost:8080/"
        },
        "id": "e5F-wlIPSDAA",
        "outputId": "0dfbb1a2-0237-4878-f033-b41b8c9f7416"
      },
      "execution_count": 50,
      "outputs": [
        {
          "output_type": "stream",
          "name": "stdout",
          "text": [
            "Enter the number of rows: 5\n",
            "111111111\n",
            " 2222222\n",
            "  33333\n",
            "   444\n",
            "    5\n"
          ]
        }
      ]
    },
    {
      "cell_type": "code",
      "source": [
        "n=int(input(\"enter the length of the pattern\"))\n",
        "for i in range(0,n):\n",
        "  for j in range(0,n-1-i):\n",
        "    print(\" \",end=\"\")\n",
        "  for j in range(i+1):\n",
        "    print(\"*\",end=\"\")\n",
        "  for j in range(i):\n",
        "    print(\"*\",end=\"\")\n",
        "  print(\"\")\n",
        "for i in range(1,n):\n",
        "  for j in range(0,i):\n",
        "    print(\" \",end=\"\")\n",
        "  for j in range(i,n):\n",
        "    print(\"*\",end=\"\")\n",
        "  for j in range(i,n-1):\n",
        "    print(\"*\",end=\"\")\n",
        "  print(\"\")"
      ],
      "metadata": {
        "colab": {
          "base_uri": "https://localhost:8080/"
        },
        "id": "4z6o6978L4vr",
        "outputId": "69a7a1aa-5985-4d18-e9ae-e26e1c95c88b"
      },
      "execution_count": 38,
      "outputs": [
        {
          "output_type": "stream",
          "name": "stdout",
          "text": [
            "enter the length of the pattern5\n",
            "    *\n",
            "   ***\n",
            "  *****\n",
            " *******\n",
            "*********\n",
            " *******\n",
            "  *****\n",
            "   ***\n",
            "    *\n"
          ]
        }
      ]
    },
    {
      "cell_type": "code",
      "source": [
        "n=int(input(\"enter the length of the pattern\"))\n",
        "for i in range(1, n + 1):\n",
        "    for j in range(n - i):\n",
        "        print(\" \", end=\"\")\n",
        "    for j in range(1, i + 1):\n",
        "        print(j, end=\"\")\n",
        "    for j in range(i - 1, 0, -1):\n",
        "        print(j, end=\"\")\n",
        "    print(\"\")\n",
        "for i in range(n - 1, 0, -1):\n",
        "    for j in range(n - i):\n",
        "        print(\" \", end=\"\")\n",
        "    for j in range(1, i + 1):\n",
        "        print(j, end=\"\")\n",
        "    for j in range(i - 1, 0, -1):\n",
        "        print(j, end=\"\")\n",
        "    print(\"\")\n"
      ],
      "metadata": {
        "colab": {
          "base_uri": "https://localhost:8080/"
        },
        "id": "0kq2GvGpSuwD",
        "outputId": "dc0e2cdb-0f48-430e-b1a6-06cfc7ab2aa4"
      },
      "execution_count": 52,
      "outputs": [
        {
          "output_type": "stream",
          "name": "stdout",
          "text": [
            "enter the length of the pattern5\n",
            "    1\n",
            "   121\n",
            "  12321\n",
            " 1234321\n",
            "123454321\n",
            " 1234321\n",
            "  12321\n",
            "   121\n",
            "    1\n"
          ]
        }
      ]
    }
  ]
}